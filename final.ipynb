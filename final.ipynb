{
 "cells": [
  {
   "cell_type": "code",
   "execution_count": 11,
   "metadata": {},
   "outputs": [
    {
     "name": "stdout",
     "output_type": "stream",
     "text": [
      "fatal: destination path 'transformers' already exists and is not an empty directory.\n"
     ]
    }
   ],
   "source": [
    "\n",
    "! git clone https://github.com/huggingface/transformers.git"
   ]
  },
  {
   "cell_type": "code",
   "execution_count": null,
   "metadata": {},
   "outputs": [],
   "source": [
    "! cd transformers && git reset --hard 143738214"
   ]
  },
  {
   "cell_type": "code",
   "execution_count": 2,
   "metadata": {},
   "outputs": [
    {
     "name": "stdout",
     "output_type": "stream",
     "text": [
      "Python 3.10.13\n"
     ]
    }
   ],
   "source": [
    "! python --version"
   ]
  },
  {
   "cell_type": "code",
   "execution_count": 13,
   "metadata": {},
   "outputs": [
    {
     "name": "stderr",
     "output_type": "stream",
     "text": [
      "[nltk_data] Downloading package punkt to /home/student/nltk_data...\n",
      "[nltk_data]   Package punkt is already up-to-date!\n",
      "[nltk_data] Downloading package stopwords to\n",
      "[nltk_data]     /home/student/nltk_data...\n",
      "[nltk_data]   Package stopwords is already up-to-date!\n",
      "Special tokens have been added in the vocabulary, make sure the associated word embeddings are fine-tuned or trained.\n"
     ]
    }
   ],
   "source": [
    "import os\n",
    "import pandas as pd\n",
    "import re\n",
    "\n",
    "from dotenv import load_dotenv\n",
    "load_dotenv()\n",
    "\n",
    "import nltk\n",
    "from nltk.tokenize import word_tokenize\n",
    "from nltk.corpus import stopwords\n",
    "nltk.download('punkt')\n",
    "nltk.download('stopwords')\n",
    "\n",
    "import tensorflow as tf\n",
    "from transformers import T5Tokenizer, T5ForConditionalGeneration\n",
    "\n",
    "\n",
    "# Initialize our model\n",
    "tokenizer = T5Tokenizer.from_pretrained(\"orzhan/t5-long-extract\")\n",
    "model = T5ForConditionalGeneration.from_pretrained(\"orzhan/t5-long-extract\")"
   ]
  },
  {
   "cell_type": "code",
   "execution_count": 13,
   "metadata": {},
   "outputs": [],
   "source": [
    "def read_file(filenameWithPath:str)->str:\n",
    "  '''\n",
    "  This function reads the content of a file.\n",
    "\n",
    "  Parameters:\n",
    "  filenameWithPath : str\n",
    "    Absolute Path of the file which is to be read.\n",
    "\n",
    "  Returns:\n",
    "  text : str\n",
    "    The content of the read file. \n",
    "\n",
    "  '''\n",
    "  file = open(filenameWithPath,\"r\")\n",
    "  text = file.read().strip()\n",
    "  text = re.sub(\"\\n\",\" \",text)\n",
    "  return text"
   ]
  },
  {
   "cell_type": "code",
   "execution_count": null,
   "metadata": {},
   "outputs": [],
   "source": [
    "def preprocessing(text):\n",
    "  '''\n",
    "  The preprocessing function which parses raw text and manages to clean the raw text. This module removes websites/URLs, Email IDs, redundant spaces, extra periods, dashes and commas. It also replace some special unicode apostrope, qoutation symbols with ' and  \". This module also ads extra space after period, question mark and exclamation mark.\n",
    "\n",
    "  Parameters:\n",
    "    text : str\n",
    "      The raw text to preprocess.\n",
    "\n",
    "  Returns:\n",
    "    text : str\n",
    "      The preprocessed text. \n",
    "  '''\n",
    "  # text = text.lower()\n",
    "  text = re.sub(r\"https?:\\/\\/\\S+\\b|www\\.(\\w+\\.)+\\S*\", \" \", text)\n",
    "  text = re.sub(r'\\b[A-Za-z0-9._%+-]+@[A-Za-z0-9.-]+\\.[A-Z|a-z]{2,}\\b', \" \",text)\n",
    "  text = re.sub(\"\\u2019\", '\\'', text)\n",
    "  text = re.sub(\"\\u2018\", '\\'', text)\n",
    "  text = re.sub(\"\\u201C\", '\\\"', text)\n",
    "  text = re.sub(\"\\u201D\", '\\\"', text)\n",
    "  # text = re.sub(\"[$]\", \"dollar \", text)\n",
    "  # text = re.sub(\"[£]\", \"pound \", text)\n",
    "  # text = re.sub(\"[%]\", \" percent\", text)\n",
    "  # text = re.sub(r\"[^a-zA-Z0-9?!.,’-]\", ' ', text)\n",
    "  text = re.sub(r\"([?!])\", r\" \\1 \", text)\n",
    "  text = re.sub(r',+', ',', text)\n",
    "  text = re.sub(r'[-]+', ' ', text)\n",
    "  text = re.sub(r'([a-z])(?=[.,])', r'\\1 ', text)\n",
    "  text = re.sub(r'\\.{2,}', '.', text)\n",
    "  text = re.sub(r\"\\s+\", \" \", text)\n",
    "  return text"
   ]
  },
  {
   "cell_type": "code",
   "execution_count": null,
   "metadata": {},
   "outputs": [],
   "source": [
    "def createSentences(text):\n",
    "    '''\n",
    "    This function uses the nltk library to sentence tokenize a given corpus or document.\n",
    "\n",
    "    Parameters:\n",
    "    text : \n",
    "        The corpus or document string to split into sentences.\n",
    "\n",
    "    Returns: \n",
    "        A sentence tokenized copy of *text* using NLTK's default tokenizer. A list of sentences.\n",
    "\n",
    "    '''\n",
    "    return nltk.tokenize.sent_tokenize(text)"
   ]
  },
  {
   "cell_type": "code",
   "execution_count": null,
   "metadata": {},
   "outputs": [],
   "source": [
    "def createChunks(sentences):\n",
    "  '''\n",
    "  This module splits the entire corpus into chunks. A chunk is a list of sentences from the corpus. This module add a sentence to a chunk if the tokenized sentence doesn't exceed the models' single sentence length. Else it adds the senence to next chunk.\n",
    "\n",
    "  Parameters:\n",
    "  sentences : list\n",
    "    A list of containing sentences.\n",
    "\n",
    "  Returns:\n",
    "  chunks : list\n",
    "    A list of containing the chunks of the document.\n",
    "  '''\n",
    "  length = 0\n",
    "  chunk = \"\"\n",
    "  chunks = []\n",
    "  count = -1\n",
    "  for sentence in sentences:\n",
    "    # print(\"Sent \", sentence)\n",
    "    count += 1\n",
    "    combined_length = len(tokenizer.tokenize(sentence)) + length # add the no. of sentence tokens to the length counter\n",
    "\n",
    "    if combined_length  < tokenizer.max_len_single_sentence - 3 : # if it doesn't exceed\n",
    "      chunk += sentence + \" \" # add the sentence to the chunk\n",
    "      length = combined_length # update the length counter\n",
    "      # print(\"length\",length)\n",
    "      # if it is the last sentence\n",
    "      if count == len(sentences) - 1:\n",
    "        chunks.append(chunk.strip()) # save the chunk\n",
    "      # print(\"if\", chunks)\n",
    "    else:\n",
    "      chunks.append(chunk.strip()) # save the chunk\n",
    "      # print(\"else\", chunks)\n",
    "\n",
    "      # reset\n",
    "      length = 0\n",
    "      chunk = \"\"\n",
    "\n",
    "      # take care of the overflow sentence\n",
    "      chunk += sentence + \" \"\n",
    "      length = len(tokenizer.tokenize(sentence))\n",
    "  return chunks"
   ]
  },
  {
   "cell_type": "code",
   "execution_count": null,
   "metadata": {},
   "outputs": [],
   "source": [
    "def generate_chunk_summary(chunk):\n",
    "    '''\n",
    "    This module generates the summary for a given document. Prior to passing the document to model, it appends 'summarize: ' prefix to document to let the model know that the task is summarization. It restricts the generated summary to 100 tokens.\n",
    "\n",
    "    Parameters:\n",
    "    chunk : str\n",
    "        A chunk is group of sentences such that the tokenized lenght of chunk doesn't exceed the token limit of model.\n",
    "\n",
    "    Returns:\n",
    "    summary : str\n",
    "        It is the summary which model generates for the given text chunk. \n",
    "    '''\n",
    "    input_ids = tokenizer.encode(\"summarize: \" + chunk, return_tensors=\"pt\",max_length=tokenizer.model_max_length, truncation=True)\n",
    "    summary_ids = model.generate(input_ids,max_length=100)\n",
    "\n",
    "    summary = tokenizer.decode(summary_ids[0], skip_special_tokens=True)\n",
    "    return summary"
   ]
  },
  {
   "cell_type": "code",
   "execution_count": null,
   "metadata": {},
   "outputs": [],
   "source": [
    "def generate_summary(fileChunks):\n",
    "    '''\n",
    "    This function returns the complete summary for a chunked document or corpus of text.\n",
    "\n",
    "    Parameters:\n",
    "    fileChunks: list\n",
    "        A list of chunk where chunk is group of sentences in a corpus such that tokenized length of chunk doesn't exceed the model limit.\n",
    "\n",
    "    Returns:\n",
    "        Concatenated Summary as *str* for every chunk. \n",
    "    '''\n",
    "    summaries = []\n",
    "\n",
    "    for chunk in fileChunks:\n",
    "        summ = generate_chunk_summary(chunk)\n",
    "        summaries.append(summ)\n",
    "\n",
    "    return \" \".join(summaries)"
   ]
  },
  {
   "cell_type": "code",
   "execution_count": null,
   "metadata": {},
   "outputs": [],
   "source": [
    "def cap_summary(generated_summary:str)->str:\n",
    "    '''\n",
    "    This function caps the generated summary to 1000 words. \n",
    "\n",
    "    Parameters:\n",
    "    generated_summary : str\n",
    "        System generated summary.\n",
    "\n",
    "    Returns:\n",
    "        Returns Summary as str after capping.\n",
    "    '''\n",
    "    sentences = nltk.sent_tokenize(generated_summary)\n",
    "    new_summary=[]\n",
    "    target_word=1250\n",
    "    words_added=0\n",
    "    for sentence in sentences:\n",
    "        words= nltk.word_tokenize(sentence)\n",
    "        if words_added + len(words) <= target_word:\n",
    "            words_added+=len(words)\n",
    "            new_summary.append(sentence)\n",
    "        else:\n",
    "            break\n",
    "\n",
    "    return \"\".join(new_summary)"
   ]
  },
  {
   "cell_type": "code",
   "execution_count": 19,
   "metadata": {},
   "outputs": [],
   "source": [
    "def summarize():\n",
    "    '''\n",
    "    This function generates the summary for all the documents in *data-dir* . It generates the summary or the document and writes the summary in *generated_summary* folder. The convention for written file is *filename_sysSumm.txt*\n",
    "    '''\n",
    "    data_dir = os.getenv('VAL_AR')\n",
    "    for file in os.listdir(data_dir):\n",
    "        \n",
    "        fileContent = read_file(os.path.join(data_dir,file))\n",
    "        filePreprocessed = preprocessing(fileContent)\n",
    "        fileSentences = createSentences(filePreprocessed)\n",
    "        fileChunks = createChunks(fileSentences)\n",
    "        summary = generate_summary(fileChunks)\n",
    "        summary = cap_summary(summary)\n",
    "        filename = file[:-4]\n",
    "\n",
    "        with open(f\"./{os.getenv('TARGET_DIR')}/{filename}_sysSumm.txt\",\"w+\") as f:\n",
    "            f.write(summary)\n",
    "\n",
    "        # break\n",
    "        \n",
    "\n",
    "\n",
    "summarize()"
   ]
  },
  {
   "cell_type": "code",
   "execution_count": 20,
   "metadata": {},
   "outputs": [
    {
     "data": {
      "text/plain": [
       "'ENGINEERING INFRASTRUCTURE FOR THE FUTURE RENEW HOLDINGS PLC ANNUAL REPORT AND ACCOUNTS YEAR ENDED 30 SEPTEMBER 2017 Renew Holdings plc Annual Report and Accounts 2017 We provide essential engineering services to maintain and renew UK infrastructure networks. Highlights RESULTS FOR THE YEAR • Revenue increased 7% to £560.8m (2016: £525.7m), including £2.2m from share in a joint venture • Engineering Services order book increased 4% to £438m (2016: £421m) • Dividend per share increased by 13% Renew Holdings plc Annual Report and Accounts 2017 4 STRATEGIC REPORT Results The Board is pleased to announce strong results for the year ended 30 September 2017. These results reflect our position as a leading provider of engineering services to many of the UK\\'s critical infrastructure assets and in particular our strength in the Group revenue, including £2.2m from a joint venture, increased by 6.7% to £560.8m (2016: £525.7m) with operating profit prior to impairment, amortisation and exceptional items, increasing by 16.4% to £25.6m (2016: £22.0m), an operating margin of 4.6% The BOARD LOOKS FORWARD WITH CONFIDENCE TO THE GROUP CONTINUING TO DELIVER FURTHER STRONG FINANCIAL RESULTS.\" Chairman\\'s statement Annual Report and Accounts 2017 Renew Holdings plc 5 People Safety remains a top priority and the commitment of our employees In Specialist Building, the Group focuses on the High Quality Residential market in London and the Home Counties where we have particular skills in major engineering structural works to extend or reconfigure high value properties. Outlook The Group is well positioned for the 2017/18 financial year. Bank debt will have been completely repaid by 31 March 2018. After accounting for impairment, amortisation and exceptional items of £8.9m (2016: £3.0m), operating profit was £16.2m (2016: £18.6m) resulting in an operating margin of 3.6% (2016: 4.3%). Our Engineering Services order book grew 4% in the period to £ environmental In Water, we have seen increased activity in the current AMP6 investment period. Major frameworks include the Sewerage Repairs and Maintenance Framework for Northumbrian Water and the Civils and EMI Capital Delivery Partners Framework for Wessex Water. For Welsh Water, we have been reappointed to the Pressurised Pipelines CP6 will focus on both maintenance and renewals on the rail network as key priorities. We believe that the Group is particularly strongly placed to benefit from this spending profile. The acquisition of Giffen has increased our opportunities in the Rail market including London Underground. Already, schemes incorporating the joint skill sets of Engineering Services revenue £m £452m * 436 2016 2015 2014 2013 2017 441 382 233 452* Engineering Services order book £m £438m 421 2016 2015 2014 2013 2017 400 361 301 438 Operational review page 16 Chief Executive\\'s review continued * Includes £2.2m from share in We provide both planned and responsive services where we fulfil a high volume of low cost tasks on a range of assets through long term framework agreements. Our responsive engineering services, combined with consistent delivery, mean we are well positioned to work on some of the largest asset maintenance and renewal frameworks nationally, which are largely delivered through Positioned as a key supplier to our clients, we assist them in maintaining their assets and providing continuity of service. 6 Cash generation The Group has consistently generated cash from operations, enabling it to maximise shareholder return. Cash generation assists the Group in the fulfilment of its acquisition strategy and is a strong indicator of the strength ENVIRONMENTAL Water UK water companies, regulated by Ofwat, undertake long term investment programmes on their infrastructure networks. In the current five year investment period, AMP6, we estimate our clients Northumbrian Water, Wessex Water and Dwr Cymru Welsh Water will spend around £3.2b 14 STRATEGIC REPORT Strategy and KPIs PROVEN LONG TERM STRATEGY STRATEGIC PRIORITY To be a key provider of engineering services in our target markets STRATEGIC PRIORITY To focus on asset support, maintenance and renewals programmes with The Group has certain key performance indicators (\"KPIs\") which are used to measure and monitor its performance in a number of areas. The operating profit KPIs are measured on a non GAAP basis which reflect the most appropriate view of the underlying performance of the business. These measures are set out in the charts below the latest government forecast to manage the whole of the mission is £70bn (discounted at today\\'s prices), with a programme lasting until 2120. The Nuclear Decommissioning Authority\\'s (\"NDA\") medium term forecasts indicate a rate of decommissioning expenditure of around £3bn per annum We remain the largest mechanical, electrical and instrumentation employer at the nuclear site in Cumbria where we have recorded our eighth year of continuous operations since a reportable lost time accident. Work continues on the Electrical, Controls and Instrumentation Framework for Magnox and at Springfields for Westinghouse we continue IT REMAINS THE GROUP\\'S AMBITION TO CONTINUE TO BROADEN ITS SKILLS IN THE NUCLEAR MARKET WHICH HAS HIGH BARRIERS TO ENTRY AND REQUIRES AN EXCEPTIONAL SAFETY RECORD.\" • Operational support and asset care • Critical planned and reactive maintenance and renewals • Civil, mechanical and electrical engineering • Emergency works including flood risk management programmes • Maintaining strategic water mains and mains drainage • Clean and wastewater rehabilitation infrastructure • Port, harbour and sea defences Progress The cyclic nature of the five year investment ENVIRONMENTAL Renew Holdings plc Annual Report and Accounts 2017 18 STRATEGIC REPORT Operational review continued LAND REMEDIATION Market The Environment Agency estimates that in England and Wales approximately 300,000 hectares of land could potentially be affected by historical contamination. Annual Report and Accounts 2017 Renew Holdings plc 19 THE GROUP HAS EXTENSIVE EXPERTISE IN DELIVERING MAINTENANCE AND RENEWALS ACROSS WATER INFRASTRUCTURE NETWORKS.\" STRATEGIC RE The acquisition of Giffen in the period broadened our offering to Network Rail, London Underground and Train Operating Companies. By utilising the joint capabilities of AMCO and Giffen we have secured AMCO\\'s first civil engineering opportunities with London Underground. Through Giffen, the Group has five frameworks with London Underground for specialist electrical, plant and progress The installation and expansion of 4G services continues to provide the majority of our work as the market is driven by consumer demand for faster, more capable mobile connectivity. We continue to support the wireless telecoms operators in the provision of new infrastructure, the upgrade of existing networks and decommissioning of redundant assets, delivering over 40,000 Walter Lilly won the \"Contractor of the Year\" award at the Building Awards 2016 in the up to £300m category. Future focus We focus on delivering technically challenging high value projects in London and the Home Counties where our expertise and experience prove differentiators in this market with high barriers to entry many of our businesses are involved with local sporting clubs for young people, providing kit and equipment through sponsorship. Our businesses support many charities and local causes throughout the year. Shepley Engineers assists its chosen charities through fundraising events in Cumbria as well as providing time and expertise alongside direct funding in support of its local community. OUR CORPORATE RESPONSIBILITY Renew and its subsidiary businesses strive to deliver wider social, environmental and economic benefits as well as delivering benefits to our employees, clients, supply chain and other stakeholders. We understand the responsibility of our operational activities and work hard to ensure the safety of our employees and those who To mitigate these contributory factors we have introduced a Group wide initiative \"Change = STOP\" to empower employees to take responsibility for their working environment. The initiative is supported within the subsidiary businesses as part of their individual safety programmes. Our businesses undertake continual safety training to ensure the highest levels of safe working. Shepley Engineers Limited received The Royal Society for the Prevention of Accidents (\"RoSPA\") Order of Distinction • PPS Electrical Limited received a RoSPA Order of Distinction • West Cumberland Engineering Limited received a RoSPA Gold Medal Award • Lewis Civil Engineering Limited received a third a tax charge of £4.4m (2016: £5.3m) resulted in a profit after tax prior to amortisation and related deferred taxation for the year of £20.9m (2016: £17.1m), an increase of 22%. After deducting £8.4m (2016: £2.4m As at 30 September 2016, the deferred tax liability has been increased by £1,309,000, compared to that previously reported. During the preparation of these financial statements, the Directors also became aware of inaccuracies in the corporation tax creditor at 30 September 2016. Correcting these resulted in an £833,000 This rate is higher than the headline rate of 19% as the impairment charge of £5.8m is not a taxable item. Excluding this item, the tax rate falls to 18% which is slightly lower than the headline rate. The Group has been able to utilise some brought forward losses which Liabilities have reduced primarily due to an increase in the discount rate as a result of improving gilt yields. Similar to the Lovell Scheme, the Board has worked closely with the Trustees of the Amco Scheme, to reduce the risks associated with the liabilities of the scheme. Distributable profits The distributable profits of Renew Holdings plc are £50.9m (2016: £46.6m). The Board is recommending a final dividend of 6.0p (2016: 5.35p) per share bringing the total for the year to 9.0p (2016: 8.0p As the Group has moved progressively into engineering services markets it has fewer, but larger, clients. Key clients are Network Rail, Sellafield Ltd, National Grid, Environment Agency, CTIL, Northumbrian Water, Wessex Water and Welsh Water. Loss of any of the above could potentially affect shareholder value Andries Liebenberg, 49, was appointed to the Board on 31 March 2016. Andries is the Managing Director of Renew\\'s largest business, Amalgamated Construction Limited (\"Amco\"), and has been with the Group for over ten years. Roy Harrison OBE Chairman Roy Harrison, 70, was appointed to the Renew Holdings plc Annual Report and Accounts 2017 30 CORPORATE GOVERNANCE Corporate governance As an AIM listed company, Renew is not required to follow the provisions of the 2014 UK Corporate Governance Code (\"the Code\"). The Directors, however, recognise the importance of, and accordingly support, the principles of good The Board receives written and oral reports from the Executive Directors ensuring matters are considered fully and enabling Directors to discharge their duties properly. There is a formal schedule of matters reserved for the Board\\'s decision ensuring the maintenance of control over strategic, financial and operational matters. In addition, procedures are in place for the Directors to seek independent professional advice The Audit Committee consists of all four non executive Directors. The Executive Directors are invited to attend Audit Committee meetings but at least two meetings are held each year with the external Auditor at which the Executive Directors are not present. The Audit Committee considers the adequacy and effectiveness of the risk management and control systems of the Group Where significant risks are identified, the probability of those risks occurring, their potential impact and the plans for managing and mitigating each of those risks is reported. The Group operates a series of controls which include the annual strategic planning and budgeting process, short term cash monitoring achieved by means of weekly forecasts which are compared against budget and previous Shareholder relationships Members of the Board have dialogue with individual shareholders during the year. In addition to the Annual and Interim Report and Accounts, the Chairman addresses shareholders at the AGM and invites questions to any members of the Board. The AGM is normally attended by all Directors and provides an opportunity for communication with those shareholders attending The Directors recommend the payment of a final dividend on the Ordinary Shares of 6.0p (2016: 5.35p) giving a total for the year of 9.0p (2016: 8.0p). Business review Information that fulfils the business review requirements applicable to the Group can be found in this report, the Chief Executive\\'s Review and The amounts presented in the balance sheet are net of allowances for doubtful debts, estimated by the Group\\'s management based on prior experience and their assessment of the current economic environment. Payment of creditors The Group recognises the importance of good relationships with its suppliers and sub contractors and has established the following payment policy: (a) agree payment terms in advance of any commitment being Health, safety and environmental management issues and reports are reviewed at every Group Board meeting with the Head of Department in attendance when necessary. The Executive Management Committee, chaired by the Chief Executive, discusses and progresses policy, legislative changes, best practice, training needs, inspections, audits (internal and external), performance measurement A system of Safety and Environmental Alerts ensures lessons learnt and changes to working practices are rapidly transmitted to our workforce, businesses and their contractors. The Accident Incidence Rate (\"AIR\") for the year measured on the standard base line of 100,000 persons at work is a key area where the Group measures its performance Paul Scott – Director, 53, was appointed to the Board as Engineering Services Director on 21 July 2014 and as Chief Executive on 1 October 2016. Paul has been with the Group for eighteen years, serving as Managing Director of Shepley Engineers Limited, the Group\\'s nuclear services business prior to assuming the Group wide The Company has purchased and maintained throughout the year directors\\' and officers\\' liability insurance in respect of its Directors. Directors\\' interests The beneficial interests of the Directors (and their immediate family members) in the shares of the Company and options for shares are set out on pages 37 and 38. No Director has any interest in any other Group company Annual Report and Accounts 2017 Renew Holdings plc 35 CORPORATE GOVERNANCE Directors\\' remuneration report The Directors present the Directors\\' remuneration report (the \"Remuneration Report\") for the financial year ended 30 September 2017. As an AIM listed company, Renew is not required The Remuneration Committee\\'s terms of reference include: (a) to determine and agree with the Board the framework and policy for the remuneration packages, including bonuses, incentive payments and share options or share awards of the Executive Directors and members of the Executive Management; (b) to review and approve the design of Basic salary and benefits Basic salaries are reviewed annually by the Remuneration Committee, and adjusted where the Committee believes that adjustments are appropriate to reflect performance, changed responsibilities and/or market conditions. Other benefits for Executive Directors include car allowances and certain medical cover for Directors and their immediate family. All TSR calculations are based on the average of the opening and closing share price over a 30 day period prior to the commencement and end of the performance period. The absolute TSR growth target requires the Company\\'s TSR over the three year performance period to have grown by more than 25 per cent. This simplifies the settlement process, reducing complexity and cost to both the Company and the participant and reducing dilution to the shareholders, all whilst preserving the overall economic effect of the LTIP award. Remuneration for the year ending 30 September 2017 Service contracts and letters of appointment The Company\\'s policy is for all Directors\\' remuneration Information is provided below for Directors who served during the financial year and as at 30 September 2017: Total emoluments T otal emoluments Salary/fees Bonuses LTIP Pension Benefits 2017 2016 Notes £000 £000 £000 A Liebenberg was appointed to the Board on 31 March 2016 and so the comparative figures represent a six month period only. Annual bonus awards The Company provides a bonus incentive scheme for Executive Directors (other than A Liebenberg) linked to the performance of the Group. At the beginning of each year, the Remuneration Committee agrees a the LTIP options are exercisable at a nominal cost but are only exercisable to the extent that certain performance criteria are achieved by the Company over a three year performance period. The ESOS options, which have an exercise price of 286p per share, are used solely to enable beneficiaries to take advantage of the All of B W May\\'s option entitlements have now been exercised. The level of vesting reflects the substantial rise in earnings per share, share price and total shareholder return during the vesting period. In addition, and in accordance with the rules of the LTIP, payments of £30,000 and £1 There have been no material changes in the benefits which the Directors are entitled to receive. Annual bonus awards The annual bonus scheme for the year ending 30 September 2018 is close to agreement. The structure of the scheme is similar to the scheme for the previous year as set out above, in all material respects (except for the targets). as required by the AIM Rules of the London Stock Exchange they are required to prepare the Group financial statements in accordance with International Financial Reporting Standards as adopted by the European Union (IFRSs as adopted by the EU) and applicable law. under company law the directors must not approve the financial statements unless they are satisfied that they give a true and fair view Renew Holdings plc Annual Report and Accounts 2017 40 FINANCIAL STATEMENTS Independent auditor\\'s report to the members of Renew Holdings plc 1. Our opinion is unmodified We have audited the financial statements of Renew Holdings plc (\"the Company\") for the year ended group financial statements as a whole £0.8 million (2016: £1.0 million) 4.9% (2016: 5.2%) of Group profit before income tax Coverage 96.0% (2016: 96.8%) of Group profit before income tax Risks of material misstatement vs 2016 Carrying value of contract balance for these contracts, where possible, we agreed the year end contract balance to the cash recovered post period end and/or the third party work certified to date; • Test of detail: Where cash has not been received or work has not been certified post year end, challenging the directors in respect of contract balances in the sample identified • Test of detail: For a sample of contracts we agreed the year end contract balance to the cash recovered post period end and/or the third party work certified to date, in order to determine whether the revenue was recognised accurately and in the correct period. • Test of detail: Challenging the directors in respect of revenue recognised in the sample identified, where cash has • Our sector experience: Evaluating the assumptions used, in particular those relating to forecast revenue growth and profit margins to our knowledge of the business and external benchmarks where appropriate; • B e n c h ma r k i n g a s s Full scope for group audit purposes 2017 Full scope for group audit purposes 2016 Residual components 2017 Residual components 2016 96+ 4+I 100+ I 100+ I 96+ 4+I 97+ 3+I 94+ 6+I 93+ 7+I 97+ 3 Strategic report and directors\\' report Based solely on our work on the other information: • we have not identified material misstatements in the strategic report and the directors\\' report; • in our opinion the information given in those reports for the financial year is consistent with the financial statements; and • in our opinion those reports have been prepared in accordance with the Companies Act Misstatements can arise from fraud or error and are considered material if, individually or in aggregate, they could reasonably be expected to influence the economic decisions of users taken on the basis of the financial statements. A fuller description of our responsibilities is provided on the FRC\\'s website at 8. The purpose of our audit work and to whom we owe Independent auditor\\'s report continued to the members of Renew Holdings plc Annual Report and Accounts 2017 Renew Holdings plc 45 FINANCIAL STATEMENTS Group income statement for the year ended 30 September Before Exceptional exceptional items and items and amortisation Before Amortisation am Share Called up Share Capital Cumulative based Retained T otal share premium redemption translation payments earnings equity capital account reserve adjustment reserve (Restated*) £000 £000 £000 £000 £000 £000 At 1 October 2015 6,192 6,989 3,896 1,056 327 3,933 22,393 Transfer from income statement for the year 10, Group statement of changes in equity for the year ended 30 September Annual Report and Accounts 2017 Renew Holdings plc 47 FINANCIAL STATEMENTS Group balance sheet at 30 September 2016 2017 (Restated*) Note £000 £000 Non current assets Intangible assets – goodwill 10 57,982 56,2 £000 £000 Profit for the year from continuing operating activities 12,427 14,638 Share of post tax trading result of joint venture (166) Impairment and amortisation of intangible assets 8,080 2,954 Depreciation 4,092 4,036 Profit on sale of property, plant and equipment (666) the financial statements are presented in sterling since this is the currency in which the majority of the Group\\'s transactions are denominated. Accounting estimates and judgements In the preparation of these financial statements the Board has made certain judgements and estimates which impact the measurement of various assets and liabilities in the Group balance sheet, the value of transactions recorded in the Independent actuaries calculate the Group\\'s asset/liability in respect of the defined benefit pension schemes. The actuaries make assumptions as to discount rates, salary escalations, net interest on scheme assets/liabilities, future pension increases, mortality rates applicable to members and future rates of inflation f) Accounting for discontinued operations in accordance with IFRS 5 \"Non current assets held for sale and discontinued operations\" A non current asset or a group of assets containing a non current asset (a disposal group) is classified as held for sale if its carrying amount will be recovered principally through sale rather than through continuing use when an operation is classified as a discontinued operation, the comparative income statement is restated as if the operation has been discontinued from the start of the comparative period. (i) Basis of accounting and preparation The accounts have been prepared on the going concern basis and in accordance with applicable accounting standards under the historical cost convention. Following the adjustments made in respect of this matter, there has been no change in income tax expense for the year ended 30 September 2016 and as a result there has been no change to either the Income Statement or the Cash Flow Statement for 2016. The consolidated financial statements have been prepared in accordance with IFRSs as adopted for use in the Where the share of losses exceeds the Group\\'s interest in the entity and there is no obligation to fund these losses, the carrying value is reduced to nil, following which no further losses are recognised. (iii) Revenue Revenue, which excludes intra group revenue and Value Added Tax, comprises: • value of Goodwill arising on consolidation represents the excess of the cost of acquisition over the Group\\'s interest in the fair value of the identifiable assets, liabilities and contingent liabilities of a subsidiary, associate or jointly controlled entity at the date of acquisition. Goodwill is recognised as an asset and is tested for impairment annually, or on such other occasions that events or changes in circumstances indicate For this purpose, assets are grouped into cash generating units which represent the lowest level for which there are separately identifiable cash flows. Impairment losses in respect of goodwill are not reversed in future accounting periods. Reversals of other impairment losses are recognised in income when they arise. Pension scheme liabilities are measured using the projected unit actuarial method and are discounted at the current rate of return on a high quality corporate bond of equivalent term and currency to the liability. Any increase in the present value of liabilities within the Group\\'s defined benefit pension schemes expected to arise from employee service in the period is Deferred tax assets and liabilities are offset when they relate to income taxes levied by the same taxation authority and the Group intends to settle its current assets and liabilities on a net basis. (xviii) Foreign currencies Transactions in foreign currencies are recorded at the rate ruling at the date of the transaction an impairment loss in respect of a financial asset measured at amortised cost is calculated as the difference between its carrying value amount, and the present value of the estimated cash flows discounted at the original effective interest rate. All impairment losses are recognised in the income statement. Financial liabilities are recognised when the Group becomes a party to the contractual provisions Finance expense comprises interest expense on borrowings, unwinding of the discount on provisions and losses on hedging instruments that are recognised in income or expense. All borrowing costs are recognised in income or expense using the effective interest method. 2 Segmental analysis The Chief Operating Decision Maker (\"CODM\") is responsible for the overall resource allocation Group including Less share Group revenue Group revenue share of joint of joint from continuing from continuing venture venture activities activities 2017 2017 2017 2016 £000 £000 £000 £000 Engineering Services 452,423 (2,239) 450,184 436,213 Specialist Building 106,834 106,834 90, 2017 2016 £000 £000 Operating profit is arrived at after charging/(crediting) Auditor\\'s remuneration audit services 288 255 Depreciation of owned assets 1,760 1,614 Depreciation of assets held under finance leases 2,332 2,422 Operating lease rentals plant and machinery 1,070 993 2017 2016 £000 £000 Revenue 126 7,500 Expenses (126) (11,493) Loss before income tax (3,993) Income tax credit benefit of tax losses 785 Income tax charge adjustment in respect of previous period (818) Loss for the year from discontinued operation (4,026) On 31 October 2014 6 Employee numbers and remuneration continued Directors\\' share options Pursuant to the long term incentive plan (\"LTIP\") and Executive Share Option Scheme (\"ESOS\"), the Board has granted options to the Executive Directors as set out in the following table. the same performance criteria apply to the ESOS options, which cannot be exercised until the same date as the related LTIP options. To the extent that there is a gain arising on the ESOS options at the date of exercise, the option holder will forfeit LTIP options to the same value immediately 7 Income tax expense (a) Analysis of expense in year 2016 2017 (Restated*) £000 £000 Current tax: UK corporation tax on profits of the year (2,719) (2,909) Adjustments in respect of previous period 825 (171) Total current tax (1,894) (3,080) Deferred tax defined the Group also has unused USA tax losses of $20m (£14.9m) (2016: $18m (£14.2m)) to carry forward against future taxable profits in the USA. A substantial element of these losses relates to activities which are not forecast to generate the level of profits needed to utilise these losses. 2017 2016 Pence/share Pence/share Interim (related to the year ended 30 September 2017) 3.00 2.65 Final (related to the year ended 30 September 2016) 5.35 4.75 Total dividend paid 8.35 7.40 £000 £000 Interim (related to the year ended 30 September 2017) 1,877 1,65 10 Intangible assets Contractual rights and customer Goodwill relationships £000 £000 Cost: At 1 October 2015 56,868 12,323 Addition 199 At 1 October 2016 57,067 12,323 Addition 7,523 3,679 At 30 September 2017 64,590 16,002 Impairment losses/ Goodwill impairment Following the decision in April 2017 to withdraw from the loss making low pressure, small diameter gas pipe replacement activities of Forefront Utilities Ltd, the Board has carried out a review of the carrying value of goodwill attributable to that cash generating unit which has resulted in an impairment charge of Annual Report and Accounts 2017 Renew Holdings plc 61 FINANCIAL STATEMENTS 11 Property, plant and equipment Freehold Plant, vehicles land and buildings and equipment T otal £000 £000 £000 Cost: At 1 October 2015 2,019 12,675 14,694 Additions 5,0 Movement in year 2017 2016 £000 £000 At 1 October Acquired on 31 October 2016 71 Equity accounted share of net profits 166 At 30 September 237 Renew Holdings plc Annual Report and Accounts 2017 62 FINANCIAL STATEMENTS Notes to the accounts continued 14 Investment in joint venture continued £1.2m (2016: £1.5m) of these balances relate to certified retentions. The average age of these receivables is 294 days (2016: 298 days). Ageing of past due but not impaired receivables: 2017 2016 £000 £000 30 180 days 848 1,339 180 365 days 7 2017 2016 £000 £000 Cash at bank 6,958 14,075 Cash in hand 9 9 6,967 14,084 18 Trade and other payables 2017 2016 £000 £000 Amounts due to construction contract customers 2,429 5,883 Trade payables 48,905 39,117 Other taxation Renew Holdings plc Annual Report and Accounts 2017 64 FINANCIAL STATEMENTS Notes to the accounts continued 21 Provisions Property obligations £000 At 1 October 2016 532 Provision released during the year (182) At 30 September 2017 350 Non current liabilities 314 Current liabilities 36 At 30 September 2017 350 Property obligations The fixed rate liabilities have a weighted average period of 3 years (2016: 3 years). Fair value of financial assets and liabilities There are no material differences between fair value and the book value of the Group\\'s financial assets and liabilities. Annual Report and Accounts 2017 Renew Holdings plc 65 FINANCIAL STATEMENTS 22 Other financial instruments continued The Group does not have any derivative or non derivative financial liabilities other than those disclosed in Notes 19 and 20 and the retirement benefit obligations disclosed in Note 27. An analysis of the maturity profile for finance lease liabilities is given in Note 20. c) Currency risk The principal exposure of the Group to currency risk (i.e. exposure to gains or losses on foreign exchange which 23 Share capital 2017 2016 £000 £000 Allotted, called up and fully paid: 62,591,451 (2016: 62,317,948) Ordinary Shares of 10p each 6,259 6,232 The holders of Ordinary Shares are entitled to receive dividends as declared from time to time The options are exercisable at a nominal cost or at the par value of an Ordinary Share three years after the date of grant subject to the achievement of certain performance criteria. Details of the options are given in the Directors\\' Remuneration Report. To the extent that there is a gain arising in respect of the approved options noted above 24 Reserves Share Capital Cumulative Share based Retained premium redemption translation payments earnings account reserve reserve reserve reserve reserve reserve reserve reserve (Restated*) £000 £000 £000 £000 At 1 October 2015 6,989 3,896 1,056 327 3,933 Transfer from income statement for the year 10,612 Dividend 305,172 options were exercised during the year. The value per option represents the fair value of the option less the consideration payable. The expected volatility has been calculated based on weekly historical volatility of the Company\\'s share price over the three years prior to the date of grant. The risk free rate of return has been based 2017 2016 £000 £000 Receivables under non cancellable operating leases: Under one year 185 94 Two to five years 345 119 530 213 The Group had capital commitments at 30 September 2017 of £697,000 (2016: £77,000). 26 Contingent liabilities Under the terms of the the following disclosures required by IAS 19 have been based on the most recent actuarial valuation as at 30 September 2017 carried out by Lane Clark & Peacock LLP, Consulting Actuaries, in respect of the Lovell scheme and Capita Employee Benefits (Consulting) Limited in respect of the Amco scheme using the following assumptions The assets in the Lovell scheme were: Value as at Value as at Value as at 30 September 30 September 30 September 2017 Current 2016 Current 2015 Current £000 allocation £000 allocation £000 allocation Annuities 91,400 53% 101,201 53% 43,216 26% Diversified portfolio 81,273 47% this recovery plan aims to eliminate the deficit under the Statutory Funding Objective of the Pensions Act 2004. The Group may be required to make further contributions to achieve a buy out of all pension liabilities and the Group has agreed to continue to make such contributions under a secondary funding objective. The necessity and quantum of these contributions will be remeasured by the scheme actu Scheme Governance Both the Lovell Pension Scheme and the Amco Pension Scheme have boards of trustees chaired by an independent professional trustee, Capital Cranfield Trustees Ltd. Each scheme also has member elected trustees who must be members of the scheme. Both Renew Holdings plc for the Lovell Lovell Pension Scheme 2016 2017 (Restated*) £000 £000 Movements in scheme assets and obligations T otal fair value of scheme assets brought forward 190,524 165,603 Interest on scheme assets 4,489 6,056 Employer contributions 4,319 4,316 Benefits paid (11,315) (8,221) Running costs (1) (11) Annual Report and Accounts 2017 Renew Holdings plc 71 FINANCIAL STATEMENTS 27 Employee benefits: Retirement benefit obligations continued IAS 19 \"Employee Benefits\" continued The following amounts at 30 September were measured in accordance with the requirements of IAS 19. Amco Pension Scheme 2017 2016 £000 £000 Movements in scheme assets and obligations T otal fair value of scheme assets brought forward 15,321 14,265 Expected return on scheme assets 360 521 Employer contributions 972 385 Benefits paid (1,634) (780) Actual return on scheme assets less interest as permitted by IAS 19, the Group has taken advantage of the multi employer exemption and the surplus of the scheme is accounted for as an unallocated consolidation adjustment. Amco Pension Scheme 2017 2016 2015 2014 2013 £000 £000 £000 £000 £000 Actual return on scheme assets less interest on scheme assets (680) 930 (297 Acquisition of subsidiary undertaking Giffen Holdings Ltd On 31 October 2016, a wholly owned subsidiary of the Company acquired the whole of the issued share capital of Giffen Holdings Ltd (\"Giffen\") for a cash consideration of £5m with a further £2m to redeem loans from Giffen\\'s private equity owners Deferred tax assets The Directors reviewed the timing of recognition of tax losses available on acquisition and have recognised an additional £567,000 deferred tax asset. A £626,000 deferred tax liability has been recognised in relation to the amortisation of other intangible assets. Trade and other payables A loan note transferred on acquisition will not R J Harrison OBE Chairman 21 November 2017 Annual Report and Accounts 2017 Renew Holdings plc 75 FINANCIAL STATEMENTS Company statement of comprehensive income for the year ended 30 September 2016 2017 (Restated*) £000 £000 Profit for the year attributable to equity holders of the parent company 11,128 11,963 Items that will Share Capital Share based Retained T otal share premium redemption payments earnings equity capital account reserve reserve (Restated*) (Restated*) £000 £000 £000 £000 £000 At 1 October 2015 6,192 6,989 3,896 327 47,292 64,696 Transfer from profit In the year ended 30 September 2016, a rate of 18% was used. It has now become clear to the Board that, in line with tax legislation which applies in the event of a refund of a surplus on the winding up of the pension scheme, that a tax rate of 35% should as the consolidated financial statements of Renew Holdings plc include the equivalent disclosures, the Company has also taken the exemptions under FRS 102 available in respect of the following disclosures: • the disclosure required by FRS 102.11 Basic Financial Instruments and FRS 102.12 Other Financial Instrument Issues Timing differences arise because of differences between the treatment of certain items for accounting and taxation purposes. In accordance with FRS 102 \\'The Financial Reporting Standard\\', deferred tax is not provided on permanent timing differences. Unrelieved tax losses and other deferred tax assets are recognised to the extent that it is probable that The Company determines the net interest income/(expense) on the net defined benefit asset/(liability) for the period by applying the discount rate as determined at the beginning of the annual period to the net defined benefit asset/(liability) taking account of changes arising as a result of contributions Renew Holdings plc Annual Report and Accounts 2017 78 FINANCIAL STATEMENTS Notes to the company accounts continued B Profit and loss account As permitted by Section 408 of the Companies Act 2006, the Company has not presented its own profit and loss account. T otal £000 £000 £000 £000 Cost: At 1 October 2016 701 73 774 Additions 2 2 At 30 September 2017 701 75 776 Depreciation: At 1 October 2016 76 56 132 Charge for year 10 9 19 At 30 September 2017 86 65 151 I Debtors due after one year 2017 2016 £000 £000 Debtors due after one year: Pension scheme asset (see Note S) 9,692 7,704 Due within one year: Trade debtors 73 12 Due from subsidiary undertakings 69,042 73,239 Corporation tax 4,903 2,90 M Share capital 2017 2016 £000 £000 Allotted, called up and fully paid: 62,591,451 (2016: 62,317,948) Ordinary Shares of 10p each 6,259 6,232 The holders of Ordinary Shares are entitled to receive dividends as declared from time to time The options are exercisable at a nominal cost or at the par value of an Ordinary Share three years after the date of grant subject to the achievement of certain performance criteria. Details of the options are given in the Directors\\' Remuneration Report. To the extent that there is a gain arising in respect of the approved options noted above £109,000 (2016: £244,000) has been charged to administrative expenses in accordance with FRS 102. There is no impact on net assets since an equivalent amount has been credited to the share based payments reserve. 305,172 options were exercised during the year. the value per option represents the fair value of the option less the consideration payable The Company had no capital commitments at 30 September 2017 (2016: £nil). P Contingent liabilities The Company has guaranteed performance bonds in respect of certain contracts and leasing arrangements in the normal course of business of its subsidiary undertakings. Under the terms of the Group\\'s banking agreement, security over the Company\\'s assets has been granted to the The Lovell scheme\\'s valuation at 30 September 2017 shows a surplus of £9,692,000 based on the assumptions set out below. The Directors have determined that it is appropriate to recognise the surplus as, having reviewed the rules of the Lovell scheme, they are of the view that the employer has an unconditional the assets in the Lovell scheme were: Value as at Value as at Value as at 30 September 30 September 30 September 2017 Current 2016 Current 2015 Current £000 allocation £000 allocation £000 allocation Annuities 91,400 53% 101,201 53% 43,216 26% Diversified portfolio 81,273 47% 88, 2017 2016 2015 2014 2013 £000 £000 £000 £000 Actual return on scheme assets less interest on scheme assets (14,565) 22,781 18,145 16,348 (1,168) As a percentage of the assets at the end of the year (8.4)% 12.0% 11.0% 11.2% (0.9)% 2016 2017 (Restated*) £000 £000 Movements in scheme assets and obligations T otal fair value of scheme assets brought forward 190,524 165,603 Interest on scheme assets 4,489 6,056 Employer contributions 4,319 4,316 Benefits paid (11,315) (8,221) Running costs (1) (11) Actual return on scheme assets Renew Holdings plc 85 FINANCIAL STATEMENTS T Subsidiary undertakings Renew Holdings plc acts as the holding company of the Group. The principal activity of the Group during the year was as contractors in Engineering Services and Specialist Building. The subsidiary undertakings and joint ventures are listed below. Construction PLC Owned by Renew Holdings plc England and Wales 100% YJL Homes Ltd Owned by Renew Holdings plc England and Wales 100% VHE Land Projects Ltd Owned by Renew Holdings plc England and Wales 100% YJL Pension Trustee Company Ltd Owned by Electrical Ltd Owned by subsidiary England and Wales 100% Renew Civil Engineering Ltd Owned by subsidiary England and Wales 100% Renew Construction Ltd Owned by subsidiary England and Wales 100% Renew Specialist Services Ltd Owned by subsidiary England and Wales 100% Seymour (Civil Engineering Contractors) Ltd Owned by subsidiary Renew Holdings plc 87 FINANCIAL STATEMENTS Directors, officers and advisors Directors R J Harrison OBE (Non executive Chairman) P Scott (Chief Executive) J Bishop FCA (Independent non executive) D M Forbes (Independent non executive) D A Brown (Independent Share fraud warning Share fraud includes scams where investors are called out of the blue and offered shares that often turn out to be worthless or non existent, or an inflated price for shares they own. These calls typically come from fraudsters operating in \"boiler rooms\" that are mostly based abroad.'"
      ]
     },
     "execution_count": 20,
     "metadata": {},
     "output_type": "execute_result"
    }
   ],
   "source": [
    "# Run on single file\n",
    "valDir= os.getenv('VAL_AR')\n",
    "\n",
    "testFile = os.path.join(valDir,os.listdir(valDir)[0])\n",
    "\n",
    "fileContent = read_file(testFile)\n",
    "filePreprocessed = preprocessing(fileContent)\n",
    "fileSentences = createSentences(filePreprocessed)\n",
    "fileChunks = createChunks(fileSentences)\n",
    "summary = generate_summary(fileChunks)\n",
    "summary=cap_summary(summary)\n",
    "summary"
   ]
  },
  {
   "cell_type": "code",
   "execution_count": null,
   "metadata": {},
   "outputs": [],
   "source": []
  }
 ],
 "metadata": {
  "kernelspec": {
   "display_name": "Python 3 (ipykernel)",
   "language": "python",
   "name": "python3"
  },
  "language_info": {
   "codemirror_mode": {
    "name": "ipython",
    "version": 3
   },
   "file_extension": ".py",
   "mimetype": "text/x-python",
   "name": "python",
   "nbconvert_exporter": "python",
   "pygments_lexer": "ipython3",
   "version": "3.11.6"
  }
 },
 "nbformat": 4,
 "nbformat_minor": 4
}
